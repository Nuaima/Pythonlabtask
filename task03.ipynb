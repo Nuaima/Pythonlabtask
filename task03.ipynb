{
 "cells": [
  {
   "cell_type": "code",
   "execution_count": 9,
   "id": "d8ad9337",
   "metadata": {},
   "outputs": [
    {
     "name": "stdout",
     "output_type": "stream",
     "text": [
      "Defaulting to user installation because normal site-packages is not writeable\n",
      "Requirement already satisfied: binarytree in c:\\users\\dell\\appdata\\roaming\\python\\python39\\site-packages (6.5.1)\n",
      "Requirement already satisfied: setuptools-scm[toml]>=5.0.1 in c:\\users\\dell\\appdata\\roaming\\python\\python39\\site-packages (from binarytree) (7.1.0)\n",
      "Requirement already satisfied: setuptools>=60.8.2 in c:\\programdata\\anaconda3\\lib\\site-packages (from binarytree) (63.4.1)\n",
      "Requirement already satisfied: graphviz in c:\\users\\dell\\appdata\\roaming\\python\\python39\\site-packages (from binarytree) (0.20.1)\n",
      "Requirement already satisfied: tomli>=1.0.0 in c:\\programdata\\anaconda3\\lib\\site-packages (from setuptools-scm[toml]>=5.0.1->binarytree) (2.0.1)\n",
      "Requirement already satisfied: packaging>=20.0 in c:\\programdata\\anaconda3\\lib\\site-packages (from setuptools-scm[toml]>=5.0.1->binarytree) (21.3)\n",
      "Requirement already satisfied: typing-extensions in c:\\programdata\\anaconda3\\lib\\site-packages (from setuptools-scm[toml]>=5.0.1->binarytree) (4.3.0)\n",
      "Requirement already satisfied: pyparsing!=3.0.5,>=2.0.2 in c:\\programdata\\anaconda3\\lib\\site-packages (from packaging>=20.0->setuptools-scm[toml]>=5.0.1->binarytree) (3.0.9)\n"
     ]
    }
   ],
   "source": [
    "!pip install binarytree --upgrade"
   ]
  },
  {
   "cell_type": "code",
   "execution_count": 10,
   "id": "cce3fbc6",
   "metadata": {},
   "outputs": [
    {
     "name": "stdout",
     "output_type": "stream",
     "text": [
      "\n",
      "               __________30_________\n",
      "              /                     \\\n",
      "      _______20___               ____40\n",
      "     /            \\             /      \\\n",
      "    11___         _25         _35       50\n",
      "   /     \\       /   \\       /   \\\n",
      "  9      _13    26    26    35    36\n",
      " /      /\n",
      "5      12\n",
      "\n"
     ]
    }
   ],
   "source": [
    "from binarytree import Node\n",
    "\n",
    "root = Node(30)\n",
    "root.left = Node(20)\n",
    "root.right = Node(40)\n",
    "root.left.left = Node(11)\n",
    "root.left.right = Node(25)\n",
    "root.left.right.right = Node(26)\n",
    "root.left.right.left = Node(26)\n",
    "root.left.left.left = Node(9)\n",
    "root.left.left.left.left = Node(5)\n",
    "root.left.left.right = Node(13)\n",
    "root.left.left.right.left = Node(12)\n",
    "root.right.left = Node(35)\n",
    "root.right.left.right = Node(36)\n",
    "root.right.left.left = Node(35)\n",
    "root.right.right = Node(50)\n",
    "print(root)\n",
    "\n",
    "\n",
    "\n"
   ]
  },
  {
   "cell_type": "code",
   "execution_count": 11,
   "id": "1ac64ea7",
   "metadata": {},
   "outputs": [
    {
     "name": "stdout",
     "output_type": "stream",
     "text": [
      "Defaulting to user installation because normal site-packages is not writeable\n",
      "Requirement already satisfied: anytree in c:\\users\\dell\\appdata\\roaming\\python\\python39\\site-packages (2.8.0)\n",
      "Requirement already satisfied: six>=1.9.0 in c:\\programdata\\anaconda3\\lib\\site-packages (from anytree) (1.16.0)\n"
     ]
    }
   ],
   "source": [
    "!pip install anytree"
   ]
  },
  {
   "cell_type": "code",
   "execution_count": 4,
   "id": "5e6a1654",
   "metadata": {},
   "outputs": [
    {
     "name": "stdout",
     "output_type": "stream",
     "text": [
      "30\n",
      "├── 20\n",
      "│   ├── 11\n",
      "│   │   ├── 9\n",
      "│   │   │   └── 5\n",
      "│   │   └── 13\n",
      "│   │       └── 12\n",
      "│   └── 25\n",
      "│       ├── 21\n",
      "│       └── 26\n",
      "└── 40\n",
      "    ├── 35\n",
      "    │   ├── 31\n",
      "    │   └── 36\n",
      "    └── 50\n"
     ]
    }
   ],
   "source": [
    "from anytree import Node, RenderTree\n",
    "root = Node(30)\n",
    "left_child = Node(20, parent=root)\n",
    "right_child = Node(40, parent=root)\n",
    "left_child_left = Node(11, parent=left_child)\n",
    "left_child_right = Node(25, parent=left_child)\n",
    "right_child_left = Node(35, parent=right_child)\n",
    "right_child_right = Node(50, parent=right_child)\n",
    "right_child_left_left = Node(31, parent=right_child_left)\n",
    "right_child_left_right = Node(36, parent=right_child_left)\n",
    "left_child_left_left = Node(9, parent=left_child_left)\n",
    "left_child_left_left_left = Node(5, parent=left_child_left_left)\n",
    "left_child_left_right = Node(13, parent=left_child_left)\n",
    "left_child_left_right_left = Node(12, parent=left_child_left_right)\n",
    "left_child_right_left = Node(21, parent=left_child_right)\n",
    "left_child_right_right = Node(26, parent=left_child_right)\n",
    "for pre, fill, node in RenderTree(root):\n",
    "    print(\"%s%s\" % (pre, node.name))\n"
   ]
  },
  {
   "cell_type": "code",
   "execution_count": 5,
   "id": "b240b922",
   "metadata": {},
   "outputs": [
    {
     "name": "stdout",
     "output_type": "stream",
     "text": [
      "Defaulting to user installation because normal site-packages is not writeable\n",
      "Requirement already satisfied: graphviz in c:\\users\\dell\\appdata\\roaming\\python\\python39\\site-packages (0.20.1)\n"
     ]
    }
   ],
   "source": [
    "!pip install graphviz"
   ]
  },
  {
   "cell_type": "code",
   "execution_count": 6,
   "id": "98984253",
   "metadata": {},
   "outputs": [
    {
     "name": "stdout",
     "output_type": "stream",
     "text": [
      "Defaulting to user installation because normal site-packages is not writeable\n",
      "Collecting treelib\n",
      "  Downloading treelib-1.6.1.tar.gz (24 kB)\n",
      "  Preparing metadata (setup.py): started\n",
      "  Preparing metadata (setup.py): finished with status 'done'\n",
      "Requirement already satisfied: future in c:\\programdata\\anaconda3\\lib\\site-packages (from treelib) (0.18.2)\n",
      "Building wheels for collected packages: treelib\n",
      "  Building wheel for treelib (setup.py): started\n",
      "  Building wheel for treelib (setup.py): finished with status 'done'\n",
      "  Created wheel for treelib: filename=treelib-1.6.1-py3-none-any.whl size=18370 sha256=811c4486560019486b8b456c0bf99d72f52670ec315f524acc007122168e0e51\n",
      "  Stored in directory: c:\\users\\dell\\appdata\\local\\pip\\cache\\wheels\\43\\de\\32\\fd270cc5f06de2bebcdaa666e9350b95f54d983212a7aba9ad\n",
      "Successfully built treelib\n",
      "Installing collected packages: treelib\n",
      "Successfully installed treelib-1.6.1\n"
     ]
    }
   ],
   "source": [
    "!pip install -U treelib"
   ]
  },
  {
   "cell_type": "code",
   "execution_count": 7,
   "id": "0ab205da",
   "metadata": {},
   "outputs": [
    {
     "name": "stdout",
     "output_type": "stream",
     "text": [
      "30\n",
      "├── 20\n",
      "│   ├── 15\n",
      "│   └── 21\n",
      "└── 40\n",
      "    ├── 31\n",
      "    └── 50\n",
      "\n",
      "None\n"
     ]
    }
   ],
   "source": [
    "from treelib import Node, Tree\n",
    "tree = Tree()\n",
    "tree.create_node(30, 30, data=\"root\")\n",
    "tree.create_node(20, 20, parent=30, data=\"left\")\n",
    "tree.create_node(40, 40, parent=30, data=\"right\")\n",
    "tree.create_node(15, 15, parent=20, data=\"left-left\")\n",
    "tree.create_node(21, 21, parent=20, data=\"left-right\")\n",
    "tree.create_node(31, 31, parent=40, data=\"right-left\")\n",
    "tree.create_node(50, 50, parent=40, data=\"right-right\")\n",
    "print(tree.show())\n"
   ]
  },
  {
   "cell_type": "code",
   "execution_count": 8,
   "id": "16dc498d",
   "metadata": {},
   "outputs": [],
   "source": [
    "class Node:\n",
    "    def __init__(self, state, cost):\n",
    "        self.state = state\n",
    "        self.cost = cost\n",
    "\n",
    "def bfs_nqueen(n):\n",
    "    initial_state = [0] * n\n",
    "    queue = [initial_state]\n",
    "    while queue:\n",
    "        state = queue.pop(0)\n",
    "        if is_goal(state):\n",
    "            return state\n",
    "        for i in range(n):\n",
    "            for j in range(1, n+1):\n",
    "                new_state = list(state)\n",
    "                new_state[i] = j\n",
    "                if is_valid(new_state):\n",
    "                    queue.append(new_state)\n",
    "    return None\n",
    "\n",
    "def ucs_nqueen(n):\n",
    "    initial_state = [0] * n\n",
    "    queue = [Node(initial_state, 0)]\n",
    "    while queue:\n",
    "        node = queue.pop(0)\n",
    "        if is_goal(node.state):\n",
    "            return node.state\n",
    "        for i in range(n):\n",
    "            for j in range(1, n+1):\n",
    "                new_state = list(node.state)\n",
    "                new_state[i] = j\n",
    "                if is_valid(new_state):\n",
    "                    new_cost = node.cost + get_cost(new_state)\n",
    "                    queue.append(Node(new_state, new_cost))\n",
    "        queue.sort(key=lambda x: x.cost)\n",
    "    return None\n"
   ]
  },
  {
   "cell_type": "code",
   "execution_count": null,
   "id": "d47a08da",
   "metadata": {},
   "outputs": [],
   "source": []
  }
 ],
 "metadata": {
  "kernelspec": {
   "display_name": "Python 3 (ipykernel)",
   "language": "python",
   "name": "python3"
  },
  "language_info": {
   "codemirror_mode": {
    "name": "ipython",
    "version": 3
   },
   "file_extension": ".py",
   "mimetype": "text/x-python",
   "name": "python",
   "nbconvert_exporter": "python",
   "pygments_lexer": "ipython3",
   "version": "3.9.13"
  }
 },
 "nbformat": 4,
 "nbformat_minor": 5
}
