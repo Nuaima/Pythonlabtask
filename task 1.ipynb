{
 "cells": [
  {
   "cell_type": "markdown",
   "id": "2fff2463",
   "metadata": {},
   "source": [
    "# bfs in tree"
   ]
  },
  {
   "cell_type": "code",
   "execution_count": null,
   "id": "b23af668",
   "metadata": {},
   "outputs": [],
   "source": [
    "#bfs in tree\n",
    "class node:\n",
    "#function to create new node\n",
    "    def __init__(self,key):\n",
    "        self.data=key\n",
    "        self.left=None\n",
    "        self.right=None\n",
    "    #function to print level order traversal \n",
    "def printlevelorder(root):\n",
    "    h=height(root)\n",
    "    for i in range(1,h+1):\n",
    "        printCurrentLevel(root,i)\n",
    "    #print nodes at a current level\n",
    "def printCurrentLevel(root, level):\n",
    "    if root is None:\n",
    "        return\n",
    "    if level == 1:\n",
    "        print(root.data, end=\" \")\n",
    "    elif level > 1:\n",
    "        printCurrentLevel(root.left, level-1)\n",
    "        printCurrentLevel(root.right, level-1)\n",
    "    #compare the heightof tree\n",
    "def height(node):\n",
    "    if node is None:\n",
    "        return 0\n",
    "    else:\n",
    "            # Compute the height of each subtree\n",
    "        lheight = height(node.left)\n",
    "        rheight = height(node.right)\n",
    "\n",
    "            # Use the larger one\n",
    "        if lheight > rheight:\n",
    "            return lheight+1\n",
    "        else:\n",
    "            return rheight+1\n",
    "        \n",
    "        \n",
    "root = node(1)\n",
    "root.left = node(2)\n",
    "root.right = node(3)\n",
    "root.left.left = node(4)\n",
    "root.left.right = node(5)\n",
    "\n",
    "print(\"Level order traversal of binary tree is -\")\n",
    "printlevelorder(root)"
   ]
  },
  {
   "cell_type": "markdown",
   "id": "20c033d6",
   "metadata": {},
   "source": [
    "# dfs in tree\n"
   ]
  },
  {
   "cell_type": "markdown",
   "id": "0a818661",
   "metadata": {},
   "source": [
    "**inorder traversal**"
   ]
  },
  {
   "cell_type": "code",
   "execution_count": 15,
   "id": "2ea7cdb9",
   "metadata": {},
   "outputs": [
    {
     "name": "stdout",
     "output_type": "stream",
     "text": [
      "\n",
      "Inorder traversal of binary tree is\n",
      "4\n",
      "2\n",
      "5\n",
      "1\n",
      "3\n"
     ]
    }
   ],
   "source": [
    "class Node:\n",
    "    def __init__(self, key):\n",
    "        self.left = None\n",
    "        self.right = None\n",
    "        self.val = key\n",
    "\n",
    "\n",
    "# A function to do inorder tree traversal\n",
    "def printInorder(root):\n",
    "\n",
    "    if root:\n",
    "\n",
    "    # First recur on left child\n",
    "        printInorder(root.left)\n",
    "\n",
    "    # then print the data of node\n",
    "        print(root.val),\n",
    "\n",
    "    # now recur on right child\n",
    "        printInorder(root.right)\n",
    "\n",
    "\n",
    "# Driver code\n",
    "if __name__ == \"__main__\":\n",
    "    root = Node(1)\n",
    "    root.left = Node(2)\n",
    "    root.right = Node(3)\n",
    "    root.left.left = Node(4)\n",
    "    root.left.right = Node(5)\n",
    "\n",
    "# Function call\n",
    "    print (\"\\nInorder traversal of binary tree is\")\n",
    "    printInorder(root)\n"
   ]
  },
  {
   "cell_type": "markdown",
   "id": "cd2b5791",
   "metadata": {},
   "source": [
    "**preorder traversal**"
   ]
  },
  {
   "cell_type": "code",
   "execution_count": 17,
   "id": "a05daf4f",
   "metadata": {},
   "outputs": [
    {
     "name": "stdout",
     "output_type": "stream",
     "text": [
      "Preorder traversal of binary tree is\n",
      "1\n",
      "2\n",
      "4\n",
      "5\n",
      "3\n"
     ]
    }
   ],
   "source": [
    "class Node:\n",
    "    def __init__(self, key):\n",
    "        self.left = None\n",
    "        self.right = None\n",
    "        self.val = key\n",
    "\n",
    "\n",
    "# A function to do preorder tree traversal\n",
    "def printPreorder(root):\n",
    "\n",
    "    if root:\n",
    "\n",
    "        # First print the data of node\n",
    "        print(root.val),\n",
    "        # Then recur on left child\n",
    "        printPreorder(root.left)\n",
    "        # Finally recur on right child\n",
    "        printPreorder(root.right)\n",
    "\n",
    "\n",
    "# Driver code\n",
    "if __name__ == \"__main__\":\n",
    "    root = Node(1)\n",
    "    root.left = Node(2)\n",
    "    root.right = Node(3)\n",
    "    root.left.left = Node(4)\n",
    "    root.left.right = Node(5)\n",
    "\n",
    "# Function call\n",
    "print(\"Preorder traversal of binary tree is\")\n",
    "printPreorder(root)\n"
   ]
  },
  {
   "cell_type": "markdown",
   "id": "c00c5ba9",
   "metadata": {},
   "source": [
    "**postorder traversal**"
   ]
  },
  {
   "cell_type": "code",
   "execution_count": 18,
   "id": "b70e2238",
   "metadata": {},
   "outputs": [
    {
     "name": "stdout",
     "output_type": "stream",
     "text": [
      "\n",
      "Postorder traversal of binary tree is\n",
      "4\n",
      "5\n",
      "2\n",
      "3\n",
      "1\n"
     ]
    }
   ],
   "source": [
    "class Node:\n",
    "    def __init__(self, key):\n",
    "        self.left = None\n",
    "        self.right = None\n",
    "        self.val = key\n",
    "\n",
    "# A function to do postorder tree traversal\n",
    "def printPostorder(root):\n",
    "\n",
    "    if root:\n",
    "\n",
    "        # First recur on left child\n",
    "        printPostorder(root.left)\n",
    "\n",
    "        # the recur on right child\n",
    "        printPostorder(root.right)\n",
    "\n",
    "        # now print the data of node\n",
    "        print(root.val),\n",
    "\n",
    "\n",
    "# Driver code\n",
    "if __name__ == \"__main__\":\n",
    "    root = Node(1)\n",
    "    root.left = Node(2)\n",
    "    root.right = Node(3)\n",
    "    root.left.left = Node(4)\n",
    "    root.left.right = Node(5)\n",
    "\n",
    "# Function call\n",
    "print (\"\\nPostorder traversal of binary tree is\")\n",
    "printPostorder(root)\n"
   ]
  },
  {
   "cell_type": "code",
   "execution_count": null,
   "id": "84f16351",
   "metadata": {},
   "outputs": [],
   "source": []
  }
 ],
 "metadata": {
  "kernelspec": {
   "display_name": "Python 3 (ipykernel)",
   "language": "python",
   "name": "python3"
  },
  "language_info": {
   "codemirror_mode": {
    "name": "ipython",
    "version": 3
   },
   "file_extension": ".py",
   "mimetype": "text/x-python",
   "name": "python",
   "nbconvert_exporter": "python",
   "pygments_lexer": "ipython3",
   "version": "3.9.13"
  }
 },
 "nbformat": 4,
 "nbformat_minor": 5
}
