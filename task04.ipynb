{
 "cells": [
  {
   "cell_type": "code",
   "execution_count": 3,
   "id": "87d088c6",
   "metadata": {},
   "outputs": [],
   "source": [
    "graph = {\"A\":[(\"D\", 4), (\"B\", 2), (\"F\", 8)],\n",
    "         \"B\":[(\"A\", 2), (\"E\", 5), (\"F\", 1)],\n",
    "         \"C\":[(\"D\", 4), (\"F\", 3)],\n",
    "         \"D\":[(\"A\", 3), (\"C\", 4), (\"E\", 6)],\n",
    "         \"E\":[(\"B\", 5), (\"D\", 6)],\n",
    "         \"F\":[(\"A\", 8), (\"B\", 1), (\"C\", 3)]}\n",
    "     \n",
    "\n",
    "graph.get(\"B\")\n",
    "def check(queue,num):\n",
    "  for i in queue:\n",
    "    if i[0]==num:\n",
    "      return True\n",
    "  return False    \n"
   ]
  },
  {
   "cell_type": "code",
   "execution_count": 4,
   "id": "f4d30bc4",
   "metadata": {},
   "outputs": [],
   "source": [
    "def UCS(graph,start,end):\n",
    "  queue=[]\n",
    "  explored=[]\n",
    "  queue.append((start,0))\n",
    "  # print(queue)\n",
    "  while queue:\n",
    "    temp=queue.pop(0)\n",
    "    print(temp)\n",
    "    if temp[0]==end:\n",
    "      print(\"goal achieved\")\n",
    "      return\n",
    "    explored.append(temp[0])\n",
    "    children = graph.get(temp[0])\n",
    "    for child in children:\n",
    "      if child not in explored and not check(queue,child[0]):\n",
    "        temp2=(child[0],child[1]+temp[1])\n",
    "        queue.append(temp2)\n",
    "      elif check(queue,child[0]):\n",
    "        for i,j in enumerate(queue):\n",
    "          if j[0]==child[0] and j[1]>(child[1]+temp[1]):\n",
    "            queue[i]=(child[0],child[1]+temp[1])\n",
    "    queue = sorted(queue,key=lambda x:x[1],reverse=False)        \n",
    "\n",
    "        "
   ]
  },
  {
   "cell_type": "code",
   "execution_count": null,
   "id": "2a16f9ec",
   "metadata": {},
   "outputs": [],
   "source": [
    "UCS(graph,\"A\",\"E\")"
   ]
  },
  {
   "cell_type": "code",
   "execution_count": null,
   "id": "f8706c4c",
   "metadata": {},
   "outputs": [],
   "source": [
    "# the following string A is copied from the online graph editor \n",
    "A=\"A\\nB\\nC\\nD\\nE\\nF\\nA D 4\\nA B 2\\nA F 8\\nB A 2\\nB E 5\\nB F 1\\nC D 4\\nC F 3\\nD A 3\\nD C 4\\nD E 6\\nE B 5\\nE D 6\\nF A 8\\nF B 1\\nF C 3\"\n",
    "L=[]\n",
    "for a in A.split(\"\\n\"):\n",
    "    L.append(a.split())\n",
    "L    \n",
    "Dict={}\n",
    "for i in L:\n",
    "  if len(i)==1:\n",
    "    Dict[i[0]]=[]\n",
    "  else:\n",
    "    Dict[i[0]].append((i[1],int(i[2])))  \n",
    "Dict   "
   ]
  },
  {
   "cell_type": "code",
   "execution_count": 5,
   "id": "c97fcd0b",
   "metadata": {},
   "outputs": [
    {
     "name": "stdout",
     "output_type": "stream",
     "text": [
      "('Arad', 0)\n",
      "('Zerind', 75)\n",
      "('Timisoara', 118)\n",
      "('Sibiu', 140)\n",
      "('Oradea', 146)\n",
      "('Arad', 150)\n",
      "('Zerind', 217)\n",
      "('Rimnicu', 220)\n",
      "('Lugoj', 229)\n",
      "('Fagaras', 239)\n",
      "('Timisoara', 268)\n",
      "('Oradea', 288)\n",
      "('Sibiu', 290)\n",
      "('Arad', 292)\n",
      "('Mehadia', 299)\n",
      "('Pitesti', 317)\n",
      "('Zerind', 359)\n",
      "('Craivo', 366)\n",
      "('Lugoj', 369)\n",
      "('Rimnicu', 370)\n",
      "('Dobreta', 374)\n",
      "('Fagaras', 389)\n",
      "('Timisoara', 410)\n",
      "('Bucharest', 418)\n",
      "goal achieved\n"
     ]
    }
   ],
   "source": [
    "Map = {\n",
    "         'Arad': [('Sibiu', 140), ('Timisoara', 118), ('Zerind', 75)],\n",
    "         'Sibiu': [('Arad', 140), ('Oradea', 151), ('Fagaras', 99), ('Rimnicu', 80)],\n",
    "         'Timisoara': [('Arad', 118), ('Lugoj', 111)],\n",
    "         'Zerind': [('Arad', 75), ('Oradea', 71)],\n",
    "         'Oradea': [('Zerind', 71), ('Sibiu', 151)],\n",
    "         'Fagaras': [('Sibiu', 99), ('Bucharest', 211)],\n",
    "         'Rimnicu': [('Sibiu', 80), ('Craivo', 146), ('Pitesti', 97)],\n",
    "         'Lugoj': [('Timisoara', 111), ('Mehadia', 70)],\n",
    "         'Bucharest': [('Giurgiu', 90), ('Urziceni', 85), ('Pitesti', 101), ('Fagaras', 211)],\n",
    "         'Craivo': [('Dobreta', 120), ('Pitesti', 138), ('Rimnicu', 146)],\n",
    "         'Pitesti': [('Rimnicu', 97), ('Craivo', 138), ('Bucharest', 101)],\n",
    "         'Mehadia': [('Dobreta', 75), ('Lugoj', 70)],\n",
    "         'Giurgiu': [('Bucharest', 90)],\n",
    "         'Urziceni': [('Bucharest', 85), ('Hirsova', 98), ('Vaslui', 142)],\n",
    "         'Dobreta': [('Mehadia', 75), ('Craivo', 120)],\n",
    "         'Hirsova' : [('Eforie', 86), ('Urziceni', 98)],\n",
    "         'Vaslui' : [('Urziceni', 142), ('Lasi', 92)],\n",
    "         'Eforie' : [('Hirsova', 86)],\n",
    "         'Lasi': [('Neamt', 87), ('Vaslui', 92)],\n",
    "         'Neamt': [('Lasi', 87)],\n",
    "}\n",
    "     \n",
    "\n",
    "UCS(Map,\"Arad\",\"Bucharest\")"
   ]
  },
  {
   "cell_type": "code",
   "execution_count": 6,
   "id": "5c7dbafb",
   "metadata": {},
   "outputs": [
    {
     "name": "stdout",
     "output_type": "stream",
     "text": [
      "goal achieved\n"
     ]
    },
    {
     "data": {
      "text/plain": [
       "['Arad', 'Sibiu', 'Rimnicu', 'Pitesti']"
      ]
     },
     "execution_count": 6,
     "metadata": {},
     "output_type": "execute_result"
    }
   ],
   "source": [
    "def UCSPath(graph,start,end):\n",
    "  queue=[]\n",
    "  explored=[]\n",
    "  path={start:[]}\n",
    "  queue.append((start,0))\n",
    "  # print(queue)\n",
    "  while queue:\n",
    "    temp=queue.pop(0)\n",
    "    if temp[0]==end:\n",
    "      print(\"goal achieved\")\n",
    "      return path[end]\n",
    "    explored.append(temp[0])\n",
    "    children = graph.get(temp[0])\n",
    "    for child in children:\n",
    "      if child not in explored and not check(queue,child[0]):\n",
    "        temp2=(child[0],child[1]+temp[1])\n",
    "        queue.append(temp2)\n",
    "        path[child[0]] = path[temp[0]] + [temp[0]]\n",
    "      elif check(queue,child[0]):\n",
    "        for i,j in enumerate(queue):\n",
    "          if j[0]==child[0] and j[1]>(child[1]+temp[1]):\n",
    "            queue[i]=(child[0],child[1]+temp[1])\n",
    "            path[child[0]] = path[temp[0]] + [temp[0]]\n",
    "    queue = sorted(queue,key=lambda x:x[1])     \n",
    "  return path[end]           \n",
    "     \n",
    "\n",
    "UCSPath(Map,\"Arad\",\"Bucharest\")"
   ]
  },
  {
   "cell_type": "code",
   "execution_count": null,
   "id": "360a3cf7",
   "metadata": {},
   "outputs": [],
   "source": []
  }
 ],
 "metadata": {
  "kernelspec": {
   "display_name": "Python 3 (ipykernel)",
   "language": "python",
   "name": "python3"
  },
  "language_info": {
   "codemirror_mode": {
    "name": "ipython",
    "version": 3
   },
   "file_extension": ".py",
   "mimetype": "text/x-python",
   "name": "python",
   "nbconvert_exporter": "python",
   "pygments_lexer": "ipython3",
   "version": "3.9.13"
  }
 },
 "nbformat": 4,
 "nbformat_minor": 5
}
